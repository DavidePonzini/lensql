{
 "cells": [
  {
   "cell_type": "code",
   "execution_count": null,
   "id": "3e79b0b0-ba90-4b4d-8f46-40a3536031e9",
   "metadata": {},
   "outputs": [],
   "source": [
    "import lensql\n",
    "\n",
    "'''\n",
    "Available options (you can pass them as arguments or enter them interactively):\n",
    "    - host: the host name of the LensQL server\n",
    "    - username: the username to connect to the LensQL server\n",
    "    - dbhost: the host name of the database server\n",
    "    - dbport: the port number of the database server (default: 5432)\n",
    "    - dbname: the name of the database to connect to\n",
    "    - dbusername: the username to connect to the database server\n",
    "'''\n",
    "lensql.setup(\n",
    "    host='',\n",
    "    dbhost='',\n",
    "    dbname='',\n",
    "    dbusername=''\n",
    ")"
   ]
  },
  {
   "cell_type": "code",
   "execution_count": null,
   "id": "552870b2",
   "metadata": {},
   "outputs": [],
   "source": [
    "SELECT 'Hello, world!';"
   ]
  }
 ],
 "metadata": {
  "kernelspec": {
   "display_name": "Python 3 (ipykernel)",
   "language": "python",
   "name": "python3"
  },
  "language_info": {
   "codemirror_mode": {
    "name": "ipython",
    "version": 3
   },
   "file_extension": ".py",
   "mimetype": "text/x-python",
   "name": "python",
   "nbconvert_exporter": "python",
   "pygments_lexer": "ipython3",
   "version": "3.11.0rc1"
  }
 },
 "nbformat": 4,
 "nbformat_minor": 5
}
