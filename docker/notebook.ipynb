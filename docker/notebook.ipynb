{
 "cells": [
  {
   "cell_type": "code",
   "execution_count": null,
   "id": "3e79b0b0-ba90-4b4d-8f46-40a3536031e9",
   "metadata": {},
   "outputs": [],
   "source": [
    "import lensql\n",
    "\n",
    "lensql.setup()"
   ]
  },
  {
   "cell_type": "code",
   "execution_count": null,
   "id": "552870b2",
   "metadata": {},
   "outputs": [],
   "source": [
    "SELECT 'Hello, world!';"
   ]
  }
 ],
 "metadata": {
  "kernelspec": {
   "display_name": "Python 3 (ipykernel)",
   "language": "python",
   "name": "python3"
  },
  "language_info": {
   "codemirror_mode": {
    "name": "ipython",
    "version": 3
   },
   "file_extension": ".py",
   "mimetype": "text/x-python",
   "name": "python",
   "nbconvert_exporter": "python",
   "pygments_lexer": "ipython3",
   "version": "3.11.0rc1"
  }
 },
 "nbformat": 4,
 "nbformat_minor": 5
}
