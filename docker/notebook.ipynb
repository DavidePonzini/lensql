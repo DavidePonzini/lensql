{
 "cells": [
  {
   "cell_type": "code",
   "execution_count": 1,
   "id": "3e79b0b0-ba90-4b4d-8f46-40a3536031e9",
   "metadata": {},
   "outputs": [
    {
     "name": "stdout",
     "output_type": "stream",
     "text": [
      "\u001b[32m\u001b[1m[+]\u001b[0m \u001b[32mServer is online\u001b[0m\n",
      "\u001b[35m\u001b[1m[?]\u001b[0m \u001b[35mEnter database password: \u001b[0m\u001b[35m\u001b[3m"
     ]
    },
    {
     "name": "stdin",
     "output_type": "stream",
     "text": [
      " ········\n"
     ]
    },
    {
     "name": "stdout",
     "output_type": "stream",
     "text": [
      "\u001b[0m\u001b[32m\u001b[1m[+]\u001b[0m \u001b[32mConnected to database\u001b[0m\n",
      "\u001b[32m\u001b[1m[+]\u001b[0m \u001b[32mSQL execution enabled\u001b[0m\n",
      "\u001b[36m\u001b[1m[*]\u001b[0m \u001b[36mAll code executed from now on will be interpreted as SQL\u001b[0m\n"
     ]
    }
   ],
   "source": [
    "import lensql\n",
    "\n",
    "lensql.setup(\n",
    "    host='http://localhost:5000',\n",
    "    username='dav',\n",
    "    dbhost='localhost',\n",
    "    dbport=5432,\n",
    "    dbname='lensql',\n",
    "    dbusername='lensql'\n",
    ")"
   ]
  },
  {
   "cell_type": "code",
   "execution_count": null,
   "id": "65736699-e6cc-4a2c-90cc-f65ae92217b3",
   "metadata": {},
   "outputs": [
    {
     "data": {
      "application/vnd.jupyter.widget-view+json": {
       "model_id": "d9bad18e111c42b3a924c6ed4319f2e6",
       "version_major": 2,
       "version_minor": 0
      },
      "text/plain": [
       "Output()"
      ]
     },
     "metadata": {},
     "output_type": "display_data"
    }
   ],
   "source": [
    "SELECT id FROM lensql.users WHERE 1=1"
   ]
  },
  {
   "cell_type": "code",
   "execution_count": 1,
   "id": "8137d043-53e0-451b-bec8-8e0a0f497c85",
   "metadata": {},
   "outputs": [
    {
     "data": {
      "text/html": [
       "<div>\n",
       "<style scoped>\n",
       "    .dataframe tbody tr th:only-of-type {\n",
       "        vertical-align: middle;\n",
       "    }\n",
       "\n",
       "    .dataframe tbody tr th {\n",
       "        vertical-align: top;\n",
       "    }\n",
       "\n",
       "    .dataframe thead th {\n",
       "        text-align: right;\n",
       "    }\n",
       "</style>\n",
       "<table border=\"1\" class=\"dataframe\">\n",
       "  <thead>\n",
       "    <tr style=\"text-align: right;\">\n",
       "      <th></th>\n",
       "      <th>schema_name</th>\n",
       "      <th>schema_owner</th>\n",
       "    </tr>\n",
       "  </thead>\n",
       "  <tbody>\n",
       "    <tr>\n",
       "      <th>0</th>\n",
       "      <td>public</td>\n",
       "      <td>postgres</td>\n",
       "    </tr>\n",
       "  </tbody>\n",
       "</table>\n",
       "</div>"
      ],
      "text/plain": [
       "  schema_name schema_owner\n",
       "0      public     postgres"
      ]
     },
     "metadata": {},
     "output_type": "display_data"
    },
    {
     "data": {
      "application/vnd.jupyter.widget-view+json": {
       "model_id": "d71571dea8f04dfb9ad2bb6f8be99be1",
       "version_major": 2,
       "version_minor": 0
      },
      "text/plain": [
       "Output()"
      ]
     },
     "metadata": {},
     "output_type": "display_data"
    }
   ],
   "source": [
    "SELECT\n",
    "\tschema_name,\n",
    "\tschema_owner\n",
    "FROM\n",
    "\tinformation_schema.schemata\n",
    "WHERE\n",
    "\tschema_name <> 'information_schema'\n",
    "\tAND schema_name <> 'pg_catalog'\n",
    "\tAND schema_name <> 'pg_toast'\n",
    ";\n"
   ]
  },
  {
   "cell_type": "code",
   "execution_count": 1,
   "id": "f49098b8-d302-4446-8ba8-3ec58a3af37c",
   "metadata": {},
   "outputs": [
    {
     "data": {
      "text/html": [
       "<div>\n",
       "<style scoped>\n",
       "    .dataframe tbody tr th:only-of-type {\n",
       "        vertical-align: middle;\n",
       "    }\n",
       "\n",
       "    .dataframe tbody tr th {\n",
       "        vertical-align: top;\n",
       "    }\n",
       "\n",
       "    .dataframe thead th {\n",
       "        text-align: right;\n",
       "    }\n",
       "</style>\n",
       "<table border=\"1\" class=\"dataframe\">\n",
       "  <thead>\n",
       "    <tr style=\"text-align: right;\">\n",
       "      <th></th>\n",
       "      <th>datname</th>\n",
       "      <th>dba</th>\n",
       "      <th>is_template</th>\n",
       "      <th>allow_connection</th>\n",
       "    </tr>\n",
       "  </thead>\n",
       "  <tbody>\n",
       "    <tr>\n",
       "      <th>0</th>\n",
       "      <td>postgres</td>\n",
       "      <td>postgres</td>\n",
       "      <td>False</td>\n",
       "      <td>True</td>\n",
       "    </tr>\n",
       "    <tr>\n",
       "      <th>1</th>\n",
       "      <td>template1</td>\n",
       "      <td>postgres</td>\n",
       "      <td>True</td>\n",
       "      <td>True</td>\n",
       "    </tr>\n",
       "    <tr>\n",
       "      <th>2</th>\n",
       "      <td>template0</td>\n",
       "      <td>postgres</td>\n",
       "      <td>True</td>\n",
       "      <td>False</td>\n",
       "    </tr>\n",
       "    <tr>\n",
       "      <th>3</th>\n",
       "      <td>sql_collection</td>\n",
       "      <td>postgres</td>\n",
       "      <td>False</td>\n",
       "      <td>True</td>\n",
       "    </tr>\n",
       "    <tr>\n",
       "      <th>4</th>\n",
       "      <td>lensql</td>\n",
       "      <td>postgres</td>\n",
       "      <td>False</td>\n",
       "      <td>True</td>\n",
       "    </tr>\n",
       "  </tbody>\n",
       "</table>\n",
       "</div>"
      ],
      "text/plain": [
       "          datname       dba  is_template  allow_connection\n",
       "0        postgres  postgres        False              True\n",
       "1       template1  postgres         True              True\n",
       "2       template0  postgres         True             False\n",
       "3  sql_collection  postgres        False              True\n",
       "4          lensql  postgres        False              True"
      ]
     },
     "metadata": {},
     "output_type": "display_data"
    },
    {
     "data": {
      "application/vnd.jupyter.widget-view+json": {
       "model_id": "b6f04802657044ecbcfca24899ab1a1b",
       "version_major": 2,
       "version_minor": 0
      },
      "text/plain": [
       "Output()"
      ]
     },
     "metadata": {},
     "output_type": "display_data"
    }
   ],
   "source": [
    "SELECT\n",
    "\tdatname,\n",
    "\tusename AS dba,\n",
    "\tdatistemplate AS is_template,\n",
    "\tdatallowconn AS allow_connection\n",
    "FROM\n",
    "\tpg_database db\n",
    "\tJOIN pg_user u ON db.datdba = u.usesysid\n",
    ";\n"
   ]
  }
 ],
 "metadata": {
  "kernelspec": {
   "display_name": "Python 3 (ipykernel)",
   "language": "python",
   "name": "python3"
  },
  "language_info": {
   "codemirror_mode": {
    "name": "ipython",
    "version": 3
   },
   "file_extension": ".py",
   "mimetype": "text/x-python",
   "name": "python",
   "nbconvert_exporter": "python",
   "pygments_lexer": "ipython3",
   "version": "3.11.0rc1"
  }
 },
 "nbformat": 4,
 "nbformat_minor": 5
}
