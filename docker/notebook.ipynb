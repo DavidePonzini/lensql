{
 "cells": [
  {
   "cell_type": "code",
   "execution_count": 1,
   "id": "b09aedd0-7038-4a44-8055-5ffac3a404fd",
   "metadata": {},
   "outputs": [
    {
     "name": "stdout",
     "output_type": "stream",
     "text": [
      "\u001b[35m\u001b[1m[?]\u001b[0m \u001b[35mEnter database password: \u001b[0m\u001b[35m\u001b[3m"
     ]
    },
    {
     "name": "stdin",
     "output_type": "stream",
     "text": [
      " ········\n"
     ]
    },
    {
     "name": "stdout",
     "output_type": "stream",
     "text": [
      "\u001b[0m\u001b[32m\u001b[1m[+]\u001b[0m \u001b[32mDatabase connection successful\u001b[0m\n",
      "\u001b[32m\u001b[1m[+]\u001b[0m \u001b[32mSQL execution enabled\u001b[0m\n",
      "\u001b[36m\u001b[1m[*]\u001b[0m \u001b[36mAll code executed from now on will be interpreted as SQL\u001b[0m\n"
     ]
    }
   ],
   "source": [
    "import lensql\n",
    "\n",
    "lensql.setup(host='ponzidav.com', port=5432, dbname='lensql', username='lensql')"
   ]
  },
  {
   "cell_type": "code",
   "execution_count": null,
   "id": "65736699-e6cc-4a2c-90cc-f65ae92217b3",
   "metadata": {},
   "outputs": [
    {
     "data": {
      "application/vnd.jupyter.widget-view+json": {
       "model_id": "802165fe1f9944438ea2cf2ac8afde0e",
       "version_major": 2,
       "version_minor": 0
      },
      "text/plain": [
       "Output()"
      ]
     },
     "metadata": {},
     "output_type": "display_data"
    }
   ],
   "source": [
    "SELECT id FROM customers WHERE"
   ]
  }
 ],
 "metadata": {
  "kernelspec": {
   "display_name": "Python 3 (ipykernel)",
   "language": "python",
   "name": "python3"
  },
  "language_info": {
   "codemirror_mode": {
    "name": "ipython",
    "version": 3
   },
   "file_extension": ".py",
   "mimetype": "text/x-python",
   "name": "python",
   "nbconvert_exporter": "python",
   "pygments_lexer": "ipython3",
   "version": "3.11.0rc1"
  }
 },
 "nbformat": 4,
 "nbformat_minor": 5
}
