{
 "cells": [
  {
   "cell_type": "code",
   "execution_count": 1,
   "id": "3e79b0b0-ba90-4b4d-8f46-40a3536031e9",
   "metadata": {},
   "outputs": [
    {
     "name": "stdout",
     "output_type": "stream",
     "text": [
      "\u001b[32m\u001b[1m[+]\u001b[0m \u001b[32mDatabase is online\u001b[0m\n",
      "\u001b[35m\u001b[1m[?]\u001b[0m \u001b[35mEnter database password: \u001b[0m\u001b[35m\u001b[3m"
     ]
    },
    {
     "name": "stdin",
     "output_type": "stream",
     "text": [
      " ········\n"
     ]
    },
    {
     "name": "stdout",
     "output_type": "stream",
     "text": [
      "\u001b[0m\u001b[32m\u001b[1m[+]\u001b[0m \u001b[32mUser authenticated\u001b[0m\n",
      "\u001b[32m\u001b[1m[+]\u001b[0m \u001b[32mSQL execution enabled\u001b[0m\n",
      "\u001b[36m\u001b[1m[*]\u001b[0m \u001b[36mAll code executed from now on will be interpreted as SQL\u001b[0m\n"
     ]
    }
   ],
   "source": [
    "import lensql\n",
    "lensql.setup(host='ponzidav.com', port=5432, dbname='lensql', username='lensql')"
   ]
  },
  {
   "cell_type": "code",
   "execution_count": null,
   "id": "65736699-e6cc-4a2c-90cc-f65ae92217b3",
   "metadata": {},
   "outputs": [
    {
     "data": {
      "application/vnd.jupyter.widget-view+json": {
       "model_id": "a77c9677ba2845fabe53cfa0540e8fca",
       "version_major": 2,
       "version_minor": 0
      },
      "text/plain": [
       "Output()"
      ]
     },
     "metadata": {},
     "output_type": "display_data"
    }
   ],
   "source": [
    "SELECT id FROM customers WHERE"
   ]
  },
  {
   "cell_type": "code",
   "execution_count": null,
   "id": "43eee7f6-43cd-4fcd-afc0-ec776f1a1575",
   "metadata": {},
   "outputs": [
    {
     "data": {
      "application/vnd.jupyter.widget-view+json": {
       "model_id": "bca98850116a412ab1fbddc47bf8c81a",
       "version_major": 2,
       "version_minor": 0
      },
      "text/plain": [
       "Output()"
      ]
     },
     "metadata": {},
     "output_type": "display_data"
    }
   ],
   "source": [
    "selc"
   ]
  }
 ],
 "metadata": {
  "kernelspec": {
   "display_name": "Python 3 (ipykernel)",
   "language": "python",
   "name": "python3"
  },
  "language_info": {
   "codemirror_mode": {
    "name": "ipython",
    "version": 3
   },
   "file_extension": ".py",
   "mimetype": "text/x-python",
   "name": "python",
   "nbconvert_exporter": "python",
   "pygments_lexer": "ipython3",
   "version": "3.11.0rc1"
  }
 },
 "nbformat": 4,
 "nbformat_minor": 5
}
